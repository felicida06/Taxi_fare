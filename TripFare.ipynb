{
 "cells": [
  {
   "cell_type": "code",
   "execution_count": 1,
   "id": "f17982ae-7e49-471d-b66c-a42531b0cc3e",
   "metadata": {},
   "outputs": [],
   "source": [
    "import pandas as pd\n",
    "import numpy as np"
   ]
  },
  {
   "cell_type": "code",
   "execution_count": 2,
   "id": "fcc6a849-6f09-4f65-aab2-30b49342741c",
   "metadata": {},
   "outputs": [],
   "source": [
    "df = pd.read_csv(\"taxi_fare.csv\")"
   ]
  },
  {
   "cell_type": "code",
   "execution_count": null,
   "id": "5a1a5dd3-82e0-49d3-9307-c586939796cb",
   "metadata": {},
   "outputs": [],
   "source": [
    "df.head()"
   ]
  },
  {
   "cell_type": "code",
   "execution_count": null,
   "id": "6535ff31-ff25-48d1-b56a-735714161ae4",
   "metadata": {},
   "outputs": [],
   "source": [
    "df.shape"
   ]
  },
  {
   "cell_type": "code",
   "execution_count": null,
   "id": "d4ab380f-1d5c-41a6-9972-35efc2d3d370",
   "metadata": {},
   "outputs": [],
   "source": [
    "df.describe()"
   ]
  },
  {
   "cell_type": "code",
   "execution_count": null,
   "id": "20a9356e-e1ac-405e-a500-1259487c0b88",
   "metadata": {},
   "outputs": [],
   "source": [
    "df.info()"
   ]
  },
  {
   "cell_type": "code",
   "execution_count": null,
   "id": "0a00eca9-0907-4a5e-ae54-56801779a637",
   "metadata": {},
   "outputs": [],
   "source": [
    "df.tail()"
   ]
  },
  {
   "cell_type": "code",
   "execution_count": null,
   "id": "d15fcee0-3450-4b81-97a5-4899480d8be1",
   "metadata": {},
   "outputs": [],
   "source": [
    "df.columns"
   ]
  },
  {
   "cell_type": "code",
   "execution_count": null,
   "id": "6c46885e-0e8b-4725-ae26-39297159cc26",
   "metadata": {},
   "outputs": [],
   "source": [
    "df.dtypes"
   ]
  },
  {
   "cell_type": "code",
   "execution_count": null,
   "id": "59c8736e-6196-43df-b59a-214c72bdd440",
   "metadata": {},
   "outputs": [],
   "source": [
    "df.isnull().sum()"
   ]
  },
  {
   "cell_type": "code",
   "execution_count": null,
   "id": "2ff174c7-9b74-48ff-9eee-e0dafb492456",
   "metadata": {},
   "outputs": [],
   "source": [
    "df.duplicated().sum()"
   ]
  },
  {
   "cell_type": "code",
   "execution_count": null,
   "id": "0d818294-88da-444c-af82-0c9c5d10e0f2",
   "metadata": {},
   "outputs": [],
   "source": [
    "df[['extra','fare_amount','tolls_amount' ]]"
   ]
  },
  {
   "cell_type": "code",
   "execution_count": null,
   "id": "064ce255-79cb-4981-ba55-3641bcc74d55",
   "metadata": {},
   "outputs": [],
   "source": [
    "df.iloc[56, : ]"
   ]
  },
  {
   "cell_type": "code",
   "execution_count": null,
   "id": "8b17cc14-7a3b-43a8-a28c-2fbebd20c062",
   "metadata": {},
   "outputs": [],
   "source": [
    "df.iloc[:,  4]"
   ]
  },
  {
   "cell_type": "code",
   "execution_count": null,
   "id": "326825d1-543f-4038-a5c2-6ec82f3d5d46",
   "metadata": {},
   "outputs": [],
   "source": [
    "df.loc[2, :]"
   ]
  },
  {
   "cell_type": "code",
   "execution_count": null,
   "id": "fbdbd8c0-8015-4b40-9348-753630157278",
   "metadata": {},
   "outputs": [],
   "source": [
    "df.loc[:2:, ]"
   ]
  },
  {
   "cell_type": "code",
   "execution_count": null,
   "id": "9d564da7-c38a-4b6d-8254-2cf7a2e9044c",
   "metadata": {},
   "outputs": [],
   "source": [
    "#Feature Engineering"
   ]
  },
  {
   "cell_type": "code",
   "execution_count": 3,
   "id": "83730799-8d22-4cea-af95-3f930a1b9a88",
   "metadata": {},
   "outputs": [],
   "source": [
    "df['tpep_pickup_datetime'] = pd.to_datetime(df['tpep_pickup_datetime'])"
   ]
  },
  {
   "cell_type": "code",
   "execution_count": null,
   "id": "74b8d815-d78c-4196-a7bd-6b492690d604",
   "metadata": {},
   "outputs": [],
   "source": [
    "df['tpep_pickup_datetime'].head()"
   ]
  },
  {
   "cell_type": "code",
   "execution_count": 4,
   "id": "fa35b091-b7cc-4cf4-b6d9-598b760be2cc",
   "metadata": {},
   "outputs": [],
   "source": [
    "df['tpep_dropoff_datetime'] = pd.to_datetime(df['tpep_dropoff_datetime'])"
   ]
  },
  {
   "cell_type": "code",
   "execution_count": null,
   "id": "3234ff91-14bd-44e5-ae03-6e7d4e37faac",
   "metadata": {},
   "outputs": [],
   "source": [
    "df['tpep_dropoff_datetime'].head()"
   ]
  },
  {
   "cell_type": "code",
   "execution_count": 5,
   "id": "df387765-fe75-4d6e-8e91-d4c30825cf25",
   "metadata": {},
   "outputs": [],
   "source": [
    "df['pickup_weekday'] = df['tpep_pickup_datetime'].dt.day_name()\n",
    "df['is_weekend'] = df['tpep_pickup_datetime'].dt.weekday >= 5"
   ]
  },
  {
   "cell_type": "code",
   "execution_count": 6,
   "id": "cbf26a57-a621-4edf-bb56-eec1ebed91ac",
   "metadata": {},
   "outputs": [],
   "source": [
    "df['am_pm'] = df['tpep_pickup_datetime'].dt.strftime('%p')"
   ]
  },
  {
   "cell_type": "code",
   "execution_count": 7,
   "id": "a9fb405f-57a7-4070-821a-878fa0220db2",
   "metadata": {},
   "outputs": [],
   "source": [
    "df['hour'] = df['tpep_pickup_datetime'].dt.hour\n",
    "df['is_night'] = df['hour'].apply(lambda x: 1 if (x >= 22 or x < 5) else 0)"
   ]
  },
  {
   "cell_type": "code",
   "execution_count": 8,
   "id": "3d85784c-7c6c-4f6d-9c3a-f5c0143075f0",
   "metadata": {},
   "outputs": [],
   "source": [
    "df['tpep_pickup_datetime'] = df['tpep_pickup_datetime'].dt.tz_localize('UTC').dt.tz_convert('US/Eastern')"
   ]
  },
  {
   "cell_type": "code",
   "execution_count": 9,
   "id": "b9096be3-90b1-454e-95d1-67c83f8e6c23",
   "metadata": {},
   "outputs": [
    {
     "data": {
      "text/html": [
       "<div>\n",
       "<style scoped>\n",
       "    .dataframe tbody tr th:only-of-type {\n",
       "        vertical-align: middle;\n",
       "    }\n",
       "\n",
       "    .dataframe tbody tr th {\n",
       "        vertical-align: top;\n",
       "    }\n",
       "\n",
       "    .dataframe thead th {\n",
       "        text-align: right;\n",
       "    }\n",
       "</style>\n",
       "<table border=\"1\" class=\"dataframe\">\n",
       "  <thead>\n",
       "    <tr style=\"text-align: right;\">\n",
       "      <th></th>\n",
       "      <th>tpep_pickup_datetime</th>\n",
       "    </tr>\n",
       "  </thead>\n",
       "  <tbody>\n",
       "    <tr>\n",
       "      <th>0</th>\n",
       "      <td>2016-02-29 19:00:00-05:00</td>\n",
       "    </tr>\n",
       "    <tr>\n",
       "      <th>1</th>\n",
       "      <td>2016-02-29 19:00:00-05:00</td>\n",
       "    </tr>\n",
       "    <tr>\n",
       "      <th>2</th>\n",
       "      <td>2016-02-29 19:00:00-05:00</td>\n",
       "    </tr>\n",
       "    <tr>\n",
       "      <th>3</th>\n",
       "      <td>2016-02-29 19:00:00-05:00</td>\n",
       "    </tr>\n",
       "    <tr>\n",
       "      <th>4</th>\n",
       "      <td>2016-02-29 19:00:00-05:00</td>\n",
       "    </tr>\n",
       "  </tbody>\n",
       "</table>\n",
       "</div>"
      ],
      "text/plain": [
       "       tpep_pickup_datetime\n",
       "0 2016-02-29 19:00:00-05:00\n",
       "1 2016-02-29 19:00:00-05:00\n",
       "2 2016-02-29 19:00:00-05:00\n",
       "3 2016-02-29 19:00:00-05:00\n",
       "4 2016-02-29 19:00:00-05:00"
      ]
     },
     "execution_count": 9,
     "metadata": {},
     "output_type": "execute_result"
    }
   ],
   "source": [
    "df[['tpep_pickup_datetime']].head()"
   ]
  },
  {
   "cell_type": "code",
   "execution_count": 10,
   "id": "0a8dce89-f9ac-4007-9059-76c2de3ac05a",
   "metadata": {},
   "outputs": [],
   "source": [
    "df['tpep_dropoff_datetime'] = df['tpep_dropoff_datetime'].dt.tz_localize('UTC').dt.tz_convert('US/Eastern')"
   ]
  },
  {
   "cell_type": "code",
   "execution_count": null,
   "id": "7052757b-f26d-4cb6-a27c-e3bc62308b3e",
   "metadata": {},
   "outputs": [],
   "source": [
    "df[['tpep_dropoff_datetime']].head()"
   ]
  },
  {
   "cell_type": "code",
   "execution_count": 11,
   "id": "65e10b1c-51a4-40c9-b455-eeddcf7adcd2",
   "metadata": {},
   "outputs": [],
   "source": [
    "def haversine(lat1, lon1, lat2, lon2):\n",
    "    R = 6371\n",
    "    phi1 = np.radians(lat1)\n",
    "    phi2 = np.radians(lat2)\n",
    "    delta_phi = np.radians(lat2 - lat1)\n",
    "    delta_lambda = np.radians(lon2 - lon1)\n",
    "    a = np.sin(delta_phi / 2.0) ** 2+\\\n",
    "        np.cos(phi1)* np.cos(phi2)*np.sin(delta_lambda/2.0)** 2\n",
    "    c = 2* np.arctan2(np.sqrt(a), np.sqrt(1-a))\n",
    "    return R*c"
   ]
  },
  {
   "cell_type": "code",
   "execution_count": 12,
   "id": "a0e3c081-6ee7-40fd-8dde-74f8e3c07169",
   "metadata": {},
   "outputs": [],
   "source": [
    "df['trip_distance_km'] = haversine(df['pickup_latitude'], df['pickup_longitude'], df['dropoff_latitude'], df['dropoff_longitude'])"
   ]
  },
  {
   "cell_type": "code",
   "execution_count": null,
   "id": "f3703e27-7758-4450-b873-53a8ccf0c5b1",
   "metadata": {},
   "outputs": [],
   "source": [
    "df.head()"
   ]
  },
  {
   "cell_type": "code",
   "execution_count": null,
   "id": "0a5fd9d7-9c81-4ce4-badb-2e125d1b0d93",
   "metadata": {},
   "outputs": [],
   "source": [
    "df.loc[2,:]"
   ]
  },
  {
   "cell_type": "code",
   "execution_count": 13,
   "id": "5ec3268e-7071-48a3-91bb-026b073130af",
   "metadata": {},
   "outputs": [],
   "source": [
    "df['tpep_pickup_datetime'] = pd.to_datetime(df['tpep_pickup_datetime'])\n",
    "df['tpep_dropoff_datetime'] = pd.to_datetime(df['tpep_dropoff_datetime'])\n",
    "\n",
    "df['trip_duration_minutes'] = (df['tpep_dropoff_datetime'] - df['tpep_pickup_datetime']).dt.total_seconds() / 60"
   ]
  },
  {
   "cell_type": "code",
   "execution_count": 14,
   "id": "deef18f3-b3cb-4a95-ac44-83e31854916a",
   "metadata": {},
   "outputs": [],
   "source": [
    "df['avg_speed_kmh'] = df['trip_distance_km'] / (df['trip_duration_minutes'] / 60)"
   ]
  },
  {
   "cell_type": "code",
   "execution_count": 15,
   "id": "33e2fb17-029a-4e12-bcd2-44bb6e1f0642",
   "metadata": {},
   "outputs": [],
   "source": [
    "df['total_surcharges'] = (df['extra'] + df['mta_tax'] + df['tolls_amount'] + df['improvement_surcharge'])"
   ]
  },
  {
   "cell_type": "code",
   "execution_count": 16,
   "id": "4f323c60-76f7-46ff-b0ce-099d04bf3d50",
   "metadata": {},
   "outputs": [],
   "source": [
    "df['tip_percentage'] = (df['tip_amount'] / df['fare_amount']) * 100"
   ]
  },
  {
   "cell_type": "code",
   "execution_count": 17,
   "id": "ce2c0d6e-ca6e-43bb-bb15-1515639c32af",
   "metadata": {},
   "outputs": [],
   "source": [
    "df['tip_percentage'] = df['tip_percentage'].replace([np.inf, -np.inf], np.nan)"
   ]
  },
  {
   "cell_type": "code",
   "execution_count": 18,
   "id": "29fc6e8e-eb2c-4e41-bc74-0a414b0df168",
   "metadata": {},
   "outputs": [],
   "source": [
    "df['is_zero_passenger'] = (df['passenger_count'] == 0).astype(int)"
   ]
  },
  {
   "cell_type": "code",
   "execution_count": 19,
   "id": "250ba2d7-e9c7-4b32-bbe3-e1784c1fd00b",
   "metadata": {},
   "outputs": [],
   "source": [
    "df['pickup_day_of_month'] = df['tpep_pickup_datetime'].dt.day\n",
    "df['pickup_month'] = df['tpep_pickup_datetime'].dt.month\n",
    "df['pickup_year'] = df['tpep_pickup_datetime'].dt.year"
   ]
  },
  {
   "cell_type": "code",
   "execution_count": 20,
   "id": "b2f4bd09-f40e-49b6-b2df-89f3f03db1d3",
   "metadata": {},
   "outputs": [],
   "source": [
    "df['rush_hour'] = df['hour'].apply(lambda x: 1 if (7 <= x <= 9) or (16 <= x <= 19) else 0)"
   ]
  },
  {
   "cell_type": "code",
   "execution_count": null,
   "id": "5ca61f76-2d9d-4324-9d33-5ad2cfc36324",
   "metadata": {},
   "outputs": [],
   "source": [
    "df.head()"
   ]
  },
  {
   "cell_type": "code",
   "execution_count": 21,
   "id": "c781ae01-74ac-4221-82ae-091bd9bb78bd",
   "metadata": {},
   "outputs": [],
   "source": [
    "columns_to_drop = ['tpep_pickup_datetime', 'tpep_dropoff_datetime', 'pickup_latitude', 'pickup_longitude', 'dropoff_latitude', 'dropoff_longitude', 'hour', 'extra', 'mta_tax', 'tolls_amount', 'improvement_surcharge', 'fare_amount', 'tip_amount', 'passenger_count']"
   ]
  },
  {
   "cell_type": "code",
   "execution_count": 22,
   "id": "827daa9d-20ba-4e47-b385-215d789e0ea8",
   "metadata": {},
   "outputs": [],
   "source": [
    "df = df.drop(columns=columns_to_drop)"
   ]
  },
  {
   "cell_type": "code",
   "execution_count": 23,
   "id": "9f562934-78fd-4cde-bdca-36315cba7717",
   "metadata": {},
   "outputs": [
    {
     "name": "stdout",
     "output_type": "stream",
     "text": [
      "['VendorID', 'RatecodeID', 'store_and_fwd_flag', 'payment_type', 'total_amount', 'pickup_weekday', 'is_weekend', 'am_pm', 'is_night', 'trip_distance_km', 'trip_duration_minutes', 'avg_speed_kmh', 'total_surcharges', 'tip_percentage', 'is_zero_passenger', 'pickup_day_of_month', 'pickup_month', 'pickup_year', 'rush_hour']\n"
     ]
    }
   ],
   "source": [
    "print(df.columns.tolist())"
   ]
  },
  {
   "cell_type": "code",
   "execution_count": 24,
   "id": "d6151980-7c11-42f9-983a-fc1072ccd6b2",
   "metadata": {},
   "outputs": [
    {
     "data": {
      "text/html": [
       "<div>\n",
       "<style scoped>\n",
       "    .dataframe tbody tr th:only-of-type {\n",
       "        vertical-align: middle;\n",
       "    }\n",
       "\n",
       "    .dataframe tbody tr th {\n",
       "        vertical-align: top;\n",
       "    }\n",
       "\n",
       "    .dataframe thead th {\n",
       "        text-align: right;\n",
       "    }\n",
       "</style>\n",
       "<table border=\"1\" class=\"dataframe\">\n",
       "  <thead>\n",
       "    <tr style=\"text-align: right;\">\n",
       "      <th></th>\n",
       "      <th>VendorID</th>\n",
       "      <th>RatecodeID</th>\n",
       "      <th>store_and_fwd_flag</th>\n",
       "      <th>payment_type</th>\n",
       "      <th>total_amount</th>\n",
       "      <th>pickup_weekday</th>\n",
       "      <th>is_weekend</th>\n",
       "      <th>am_pm</th>\n",
       "      <th>is_night</th>\n",
       "      <th>trip_distance_km</th>\n",
       "      <th>trip_duration_minutes</th>\n",
       "      <th>avg_speed_kmh</th>\n",
       "      <th>total_surcharges</th>\n",
       "      <th>tip_percentage</th>\n",
       "      <th>is_zero_passenger</th>\n",
       "      <th>pickup_day_of_month</th>\n",
       "      <th>pickup_month</th>\n",
       "      <th>pickup_year</th>\n",
       "      <th>rush_hour</th>\n",
       "    </tr>\n",
       "  </thead>\n",
       "  <tbody>\n",
       "    <tr>\n",
       "      <th>0</th>\n",
       "      <td>1</td>\n",
       "      <td>1</td>\n",
       "      <td>N</td>\n",
       "      <td>1</td>\n",
       "      <td>12.35</td>\n",
       "      <td>Tuesday</td>\n",
       "      <td>False</td>\n",
       "      <td>AM</td>\n",
       "      <td>1</td>\n",
       "      <td>3.138096</td>\n",
       "      <td>7.916667</td>\n",
       "      <td>23.783465</td>\n",
       "      <td>1.30</td>\n",
       "      <td>22.777778</td>\n",
       "      <td>0</td>\n",
       "      <td>29</td>\n",
       "      <td>2</td>\n",
       "      <td>2016</td>\n",
       "      <td>0</td>\n",
       "    </tr>\n",
       "    <tr>\n",
       "      <th>1</th>\n",
       "      <td>1</td>\n",
       "      <td>1</td>\n",
       "      <td>N</td>\n",
       "      <td>1</td>\n",
       "      <td>15.35</td>\n",
       "      <td>Tuesday</td>\n",
       "      <td>False</td>\n",
       "      <td>AM</td>\n",
       "      <td>1</td>\n",
       "      <td>4.303331</td>\n",
       "      <td>11.100000</td>\n",
       "      <td>23.261249</td>\n",
       "      <td>1.30</td>\n",
       "      <td>27.727273</td>\n",
       "      <td>0</td>\n",
       "      <td>29</td>\n",
       "      <td>2</td>\n",
       "      <td>2016</td>\n",
       "      <td>0</td>\n",
       "    </tr>\n",
       "    <tr>\n",
       "      <th>2</th>\n",
       "      <td>2</td>\n",
       "      <td>1</td>\n",
       "      <td>N</td>\n",
       "      <td>1</td>\n",
       "      <td>63.80</td>\n",
       "      <td>Tuesday</td>\n",
       "      <td>False</td>\n",
       "      <td>AM</td>\n",
       "      <td>1</td>\n",
       "      <td>16.600142</td>\n",
       "      <td>31.100000</td>\n",
       "      <td>32.025997</td>\n",
       "      <td>1.30</td>\n",
       "      <td>14.678899</td>\n",
       "      <td>0</td>\n",
       "      <td>29</td>\n",
       "      <td>2</td>\n",
       "      <td>2016</td>\n",
       "      <td>0</td>\n",
       "    </tr>\n",
       "    <tr>\n",
       "      <th>3</th>\n",
       "      <td>2</td>\n",
       "      <td>1</td>\n",
       "      <td>N</td>\n",
       "      <td>1</td>\n",
       "      <td>41.62</td>\n",
       "      <td>Tuesday</td>\n",
       "      <td>False</td>\n",
       "      <td>AM</td>\n",
       "      <td>1</td>\n",
       "      <td>9.046547</td>\n",
       "      <td>0.000000</td>\n",
       "      <td>inf</td>\n",
       "      <td>6.34</td>\n",
       "      <td>12.000000</td>\n",
       "      <td>0</td>\n",
       "      <td>29</td>\n",
       "      <td>2</td>\n",
       "      <td>2016</td>\n",
       "      <td>0</td>\n",
       "    </tr>\n",
       "    <tr>\n",
       "      <th>4</th>\n",
       "      <td>2</td>\n",
       "      <td>3</td>\n",
       "      <td>N</td>\n",
       "      <td>1</td>\n",
       "      <td>113.80</td>\n",
       "      <td>Tuesday</td>\n",
       "      <td>False</td>\n",
       "      <td>AM</td>\n",
       "      <td>1</td>\n",
       "      <td>20.400022</td>\n",
       "      <td>0.000000</td>\n",
       "      <td>inf</td>\n",
       "      <td>15.80</td>\n",
       "      <td>0.000000</td>\n",
       "      <td>0</td>\n",
       "      <td>29</td>\n",
       "      <td>2</td>\n",
       "      <td>2016</td>\n",
       "      <td>0</td>\n",
       "    </tr>\n",
       "  </tbody>\n",
       "</table>\n",
       "</div>"
      ],
      "text/plain": [
       "   VendorID  RatecodeID store_and_fwd_flag  payment_type  total_amount  \\\n",
       "0         1           1                  N             1         12.35   \n",
       "1         1           1                  N             1         15.35   \n",
       "2         2           1                  N             1         63.80   \n",
       "3         2           1                  N             1         41.62   \n",
       "4         2           3                  N             1        113.80   \n",
       "\n",
       "  pickup_weekday  is_weekend am_pm  is_night  trip_distance_km  \\\n",
       "0        Tuesday       False    AM         1          3.138096   \n",
       "1        Tuesday       False    AM         1          4.303331   \n",
       "2        Tuesday       False    AM         1         16.600142   \n",
       "3        Tuesday       False    AM         1          9.046547   \n",
       "4        Tuesday       False    AM         1         20.400022   \n",
       "\n",
       "   trip_duration_minutes  avg_speed_kmh  total_surcharges  tip_percentage  \\\n",
       "0               7.916667      23.783465              1.30       22.777778   \n",
       "1              11.100000      23.261249              1.30       27.727273   \n",
       "2              31.100000      32.025997              1.30       14.678899   \n",
       "3               0.000000            inf              6.34       12.000000   \n",
       "4               0.000000            inf             15.80        0.000000   \n",
       "\n",
       "   is_zero_passenger  pickup_day_of_month  pickup_month  pickup_year  \\\n",
       "0                  0                   29             2         2016   \n",
       "1                  0                   29             2         2016   \n",
       "2                  0                   29             2         2016   \n",
       "3                  0                   29             2         2016   \n",
       "4                  0                   29             2         2016   \n",
       "\n",
       "   rush_hour  \n",
       "0          0  \n",
       "1          0  \n",
       "2          0  \n",
       "3          0  \n",
       "4          0  "
      ]
     },
     "execution_count": 24,
     "metadata": {},
     "output_type": "execute_result"
    }
   ],
   "source": [
    "df.head()"
   ]
  },
  {
   "cell_type": "code",
   "execution_count": null,
   "id": "582ea85f-f577-40a3-a50b-a791cab2194b",
   "metadata": {},
   "outputs": [],
   "source": [
    "#EDA"
   ]
  },
  {
   "cell_type": "code",
   "execution_count": 25,
   "id": "b32576ef-1cc2-49b7-a3d2-6f486638441f",
   "metadata": {},
   "outputs": [],
   "source": [
    "import matplotlib.pyplot as plt\n",
    "import seaborn as sns"
   ]
  },
  {
   "cell_type": "code",
   "execution_count": null,
   "id": "3015208c-0666-4d52-88df-11b1d7337874",
   "metadata": {},
   "outputs": [],
   "source": [
    "#Univariate\n",
    "#Histogram"
   ]
  },
  {
   "cell_type": "code",
   "execution_count": 26,
   "id": "a80dc5cd-d19a-44e1-9ecf-877b36efbfb3",
   "metadata": {},
   "outputs": [
    {
     "data": {
      "image/png": "[encoded data removed]",
      "text/plain": [
       "<Figure size 800x500 with 4 Axes>"
      ]
     },
     "metadata": {},
     "output_type": "display_data"
    }
   ],
   "source": [
    "fig, axs = plt.subplots(2, 2, figsize=(8, 5))\n",
    "\n",
    "sns.histplot(df['total_amount'], bins=50, ax=axs[0, 0], kde=True)\n",
    "axs[0, 0].set_title('Distribution of Total Amount')\n",
    "\n",
    "sns.histplot(df['trip_distance_km'], bins=50, ax=axs[0, 1], kde=True)\n",
    "axs[0, 1].set_title('Distribution of Trip Distance (km)')\n",
    "\n",
    "sns.histplot(df['trip_duration_minutes'], bins=50, ax=axs[1, 0], kde=True)\n",
    "axs[1, 0].set_title('Distribution of Trip Duration (minutes)')\n",
    "\n",
    "sns.histplot(df['avg_speed_kmh'], bins=50, ax=axs[1, 1], kde=True)\n",
    "axs[1, 1].set_title('Distribution of Average Speed (km/h)')\n",
    "\n",
    "plt.tight_layout()\n",
    "plt.show()"
   ]
  },
  {
   "cell_type": "code",
   "execution_count": null,
   "id": "9e36f7c5-2ecb-4de0-bcfc-6e4c2153955d",
   "metadata": {},
   "outputs": [],
   "source": [
    "#outlier Detection"
   ]
  },
  {
   "cell_type": "code",
   "execution_count": null,
   "id": "0be61f73-2135-4487-93f1-e532b9860e07",
   "metadata": {},
   "outputs": [],
   "source": [
    "plt.figure(figsize=(12, 4))\n",
    "\n",
    "for i, col in enumerate(['total_amount', 'trip_distance_km', 'trip_duration_minutes']):\n",
    "    plt.subplot(1, 3, i+1)\n",
    "    sns.boxplot(x=df[col])\n",
    "    plt.title(f'Boxplot of {col}')\n",
    "\n",
    "plt.tight_layout()\n",
    "plt.show()"
   ]
  },
  {
   "cell_type": "code",
   "execution_count": null,
   "id": "b7dd842f-2f96-4766-a237-c9a603dc49e3",
   "metadata": {},
   "outputs": [],
   "source": [
    "#Bivariate"
   ]
  },
  {
   "cell_type": "code",
   "execution_count": null,
   "id": "ad13d21e-f96f-4e7d-b78b-184f80115f56",
   "metadata": {},
   "outputs": [],
   "source": [
    "plt.figure(figsize=(8,5))\n",
    "sns.scatterplot(x='trip_distance_km', y='total_amount', data=df, alpha=0.3, color='green')\n",
    "plt.title('Total Amount vs Trip Distance')\n",
    "plt.xlabel('Trip Distance (km)')\n",
    "plt.ylabel('Total Amount ($)')\n",
    "plt.show()"
   ]
  },
  {
   "cell_type": "code",
   "execution_count": null,
   "id": "9d4e3103-ccdc-49ed-96c1-1407c48b212e",
   "metadata": {},
   "outputs": [],
   "source": [
    "plt.figure(figsize=(10, 5))\n",
    "\n",
    "# By hour\n",
    "plt.subplot(1, 3, 1)\n",
    "sns.boxplot(x='rush_hour', y='total_amount', data=df)\n",
    "plt.title('Fare vs Rush Hour of Day')\n",
    "plt.xticks(rotation=45)\n",
    "\n",
    "# By weekday\n",
    "plt.subplot(1, 3, 2)\n",
    "sns.boxplot(x='pickup_weekday', y='total_amount', data=df)\n",
    "plt.title('Fare vs Weekday')\n",
    "\n",
    "# By month\n",
    "plt.subplot(1, 3, 3)\n",
    "sns.boxplot(x='pickup_month', y='total_amount', data=df)\n",
    "plt.title('Fare vs Month')\n",
    "\n",
    "plt.tight_layout()\n",
    "plt.show()"
   ]
  },
  {
   "cell_type": "code",
   "execution_count": null,
   "id": "cb208ecf-c471-4e5b-aeb4-6a796987d496",
   "metadata": {},
   "outputs": [],
   "source": [
    "df['fare_per_km'] = df['total_amount'] / df['trip_distance_km']\n",
    "df['fare_per_min'] = df['total_amount'] / df['trip_duration_minutes']"
   ]
  },
  {
   "cell_type": "code",
   "execution_count": null,
   "id": "1586fad4-f2db-433f-8c62-fcc600f2a6a3",
   "metadata": {},
   "outputs": [],
   "source": [
    "plt.figure(figsize=(12, 5))\n",
    "\n",
    "plt.subplot(1, 2, 1)\n",
    "sns.histplot(df['fare_per_km'], bins=50, kde=True)\n",
    "plt.title('Distribution of Fare per km')\n",
    "\n",
    "plt.subplot(1, 2, 2)\n",
    "sns.histplot(df['fare_per_min'], bins=50, kde=True)\n",
    "plt.title('Distribution of Fare per minute')\n",
    "\n",
    "plt.tight_layout()\n",
    "plt.show()"
   ]
  },
  {
   "cell_type": "code",
   "execution_count": null,
   "id": "0a7e0621-a7ea-4f00-9bc7-2eaf9d3798bc",
   "metadata": {},
   "outputs": [],
   "source": [
    "sns.scatterplot(x='trip_distance_km', y='fare_per_km', data=df, alpha=0.3)\n",
    "plt.title('Fare per km vs Trip Distance')\n",
    "plt.show()\n",
    "sns.scatterplot(x='trip_duration_minutes', y='fare_per_min', data=df, alpha=0.3)\n",
    "plt.title('Fare per minute vs Trip Duration')\n",
    "plt.show()"
   ]
  },
  {
   "cell_type": "code",
   "execution_count": null,
   "id": "00aca9b0-2fb2-435e-8340-49185368db32",
   "metadata": {},
   "outputs": [],
   "source": [
    "plt.figure(figsize=(10, 4))\n",
    "\n",
    "plt.subplot(1, 2, 1)\n",
    "sns.boxplot(x='is_night', y='total_amount', data=df)\n",
    "plt.title('Fare Amount: Night vs Day')\n",
    "\n",
    "plt.subplot(1, 2, 2)\n",
    "sns.boxplot(x='is_weekend', y='total_amount', data=df)\n",
    "plt.title('Fare Amount: Weekday vs Weekend')\n",
    "\n",
    "plt.tight_layout()\n",
    "plt.show()"
   ]
  },
  {
   "cell_type": "code",
   "execution_count": null,
   "id": "426ec61b-3650-4024-bcc6-3f131b339842",
   "metadata": {},
   "outputs": [],
   "source": [
    "#Data Transformation"
   ]
  },
  {
   "cell_type": "code",
   "execution_count": 27,
   "id": "a59b978b-9572-49b8-96b4-79ce444ac362",
   "metadata": {},
   "outputs": [
    {
     "name": "stdout",
     "output_type": "stream",
     "text": [
      "Outliers removed using IQR.\n"
     ]
    }
   ],
   "source": [
    "#Handle outliers using IQR\n",
    "def remove_outliers_iqr(df, column):\n",
    "    Q1 = df[column].quantile(0.25)\n",
    "    Q3 = df[column].quantile(0.75)\n",
    "    IQR = Q3 - Q1\n",
    "    lower_bound = Q1 - 1.5 * IQR\n",
    "    upper_bound = Q3 + 1.5 * IQR\n",
    "    return df[(df[column] >= lower_bound) & (df[column] <= upper_bound)]\n",
    "\n",
    "# Apply for selected columns\n",
    "for col in ['total_amount', 'trip_distance_km', 'trip_duration_minutes']:\n",
    "    df = remove_outliers_iqr(df, col)\n",
    "\n",
    "print(\"Outliers removed using IQR.\")"
   ]
  },
  {
   "cell_type": "code",
   "execution_count": 28,
   "id": "acbac222-b6f7-4218-bff7-d256e787ffcf",
   "metadata": {},
   "outputs": [
    {
     "data": {
      "image/png": "[encoded data removed]",
      "text/plain": [
       "<Figure size 1200x400 with 3 Axes>"
      ]
     },
     "metadata": {},
     "output_type": "display_data"
    }
   ],
   "source": [
    "plt.figure(figsize=(12, 4))\n",
    "\n",
    "for i, col in enumerate(['total_amount', 'trip_distance_km', 'trip_duration_minutes']):\n",
    "    plt.subplot(1, 3, i+1)\n",
    "    sns.boxplot(x=df[col])\n",
    "    plt.title(f'Boxplot of {col}')\n",
    "\n",
    "plt.tight_layout()\n",
    "plt.show()"
   ]
  },
  {
   "cell_type": "code",
   "execution_count": 29,
   "id": "7e7c8ee7-b116-43f3-8bb3-602ffd1b516b",
   "metadata": {},
   "outputs": [
    {
     "name": "stdout",
     "output_type": "stream",
     "text": [
      "Skewness reduced using log1p transformation.\n"
     ]
    },
    {
     "name": "stderr",
     "output_type": "stream",
     "text": [
      "C:\\Users\\alber\\anaconda3\\Lib\\site-packages\\pandas\\core\\arraylike.py:399: RuntimeWarning: invalid value encountered in log1p\n",
      "  result = getattr(ufunc, method)(*inputs, **kwargs)\n"
     ]
    }
   ],
   "source": [
    "#Fix skewness in continuous variables using different transformations\n",
    "for col in ['total_amount', 'trip_distance_km', 'trip_duration_minutes']:\n",
    "    df[f'{col}_log'] = np.log1p(df[col])\n",
    "\n",
    "print(\"Skewness reduced using log1p transformation.\")"
   ]
  },
  {
   "cell_type": "code",
   "execution_count": 30,
   "id": "1c124a86-988e-4948-9c74-87f9f9fbc198",
   "metadata": {},
   "outputs": [
    {
     "name": "stdout",
     "output_type": "stream",
     "text": [
      "total_amount             0.817961\n",
      "trip_distance_km         0.972684\n",
      "trip_duration_minutes    0.698551\n",
      "dtype: float64\n"
     ]
    }
   ],
   "source": [
    "print(df[['total_amount', 'trip_distance_km', 'trip_duration_minutes']].skew())"
   ]
  },
  {
   "cell_type": "code",
   "execution_count": 31,
   "id": "1f2b8e40-4053-46b1-bbb9-1dede9b40d5e",
   "metadata": {},
   "outputs": [],
   "source": [
    "if 'store_and_fwd_flag' in df.columns:\n",
    "    df['store_and_fwd_flag'] = df['store_and_fwd_flag'].map({'N': 0, 'Y': 1})\n",
    "\n",
    "if 'am_pm' in df.columns:\n",
    "    df['am_pm'] = df['am_pm'].map({'AM': 0, 'PM': 1})\n",
    "\n",
    "for col in ['is_weekend', 'is_night', 'rush_hour', 'RatecodeID', 'payment_type']:\n",
    "    if col in df.columns and df[col].dtype == bool:\n",
    "        df[col] = df[col].astype(int)\n",
    "\n",
    "cat_cols = ['VendorID', 'RatecodeID', 'payment_type']\n",
    "cat_cols = [col for col in cat_cols if col in df.columns and not np.issubdtype(df[col].dtype, np.number)]\n",
    "if cat_cols:\n",
    "    df = pd.get_dummies(df, columns=cat_cols, drop_first=True)"
   ]
  },
  {
   "cell_type": "code",
   "execution_count": null,
   "id": "ce3deb7b-9873-4532-afa8-3780c18d3a3b",
   "metadata": {},
   "outputs": [],
   "source": [
    "df.tail()"
   ]
  },
  {
   "cell_type": "code",
   "execution_count": null,
   "id": "19c37550-574c-4795-a2d9-72896c84f7ed",
   "metadata": {},
   "outputs": [],
   "source": [
    "#Feature Selection"
   ]
  },
  {
   "cell_type": "code",
   "execution_count": null,
   "id": "2f011aea-222b-43bf-a962-59d0643c6a75",
   "metadata": {},
   "outputs": [],
   "source": [
    "#Correlation analysis(for numerical feature)"
   ]
  },
  {
   "cell_type": "code",
   "execution_count": 32,
   "id": "64a0b830-1486-403f-a7be-8e9cfb7b540c",
   "metadata": {},
   "outputs": [
    {
     "name": "stdout",
     "output_type": "stream",
     "text": [
      "total_amount                 1.000000\n",
      "total_amount_log             0.975322\n",
      "trip_duration_minutes        0.903563\n",
      "trip_duration_minutes_log    0.862398\n",
      "trip_distance_km             0.778205\n",
      "trip_distance_km_log         0.751768\n",
      "tip_percentage               0.181072\n",
      "total_surcharges             0.066982\n",
      "VendorID                     0.030630\n",
      "am_pm                        0.027966\n",
      "RatecodeID                  -0.000348\n",
      "rush_hour                   -0.001141\n",
      "store_and_fwd_flag          -0.003368\n",
      "is_night                    -0.008095\n",
      "avg_speed_kmh               -0.106586\n",
      "payment_type                -0.277120\n",
      "Name: total_amount, dtype: float64\n"
     ]
    },
    {
     "data": {
      "image/png": "[encoded data removed]",
      "text/plain": [
       "<Figure size 1000x800 with 2 Axes>"
      ]
     },
     "metadata": {},
     "output_type": "display_data"
    }
   ],
   "source": [
    "numeric_df = df.select_dtypes(include=['int64', 'float64'])\n",
    "\n",
    "# Correlation with target\n",
    "corr_matrix = numeric_df.corr()\n",
    "target_corr = corr_matrix['total_amount'].sort_values(ascending=False)\n",
    "\n",
    "# Print and visualize\n",
    "print(target_corr)\n",
    "\n",
    "# Heatmap\n",
    "plt.figure(figsize=(10, 8))\n",
    "sns.heatmap(corr_matrix[['total_amount']].sort_values(by='total_amount', ascending=False), annot=True, cmap='coolwarm')\n",
    "plt.title(\"Correlation with Total Amount\")\n",
    "plt.show()"
   ]
  },
  {
   "cell_type": "code",
   "execution_count": null,
   "id": "64f2a083-f4f1-439a-bf8b-f1200820e945",
   "metadata": {},
   "outputs": [],
   "source": [
    "#Chi-Square(for categorial variables)"
   ]
  },
  {
   "cell_type": "code",
   "execution_count": 33,
   "id": "e907a9ec-2c93-4df9-94a3-70b8253bf98f",
   "metadata": {},
   "outputs": [
    {
     "name": "stdout",
     "output_type": "stream",
     "text": [
      "              Feature  MI Score\n",
      "3        payment_type  0.330152\n",
      "0            VendorID  0.178623\n",
      "4      pickup_weekday  0.058911\n",
      "5               am_pm  0.010162\n",
      "6            is_night  0.005019\n",
      "7          is_weekend  0.003363\n",
      "1          RatecodeID  0.002219\n",
      "2  store_and_fwd_flag  0.001825\n",
      "8           rush_hour  0.000248\n"
     ]
    }
   ],
   "source": [
    "from sklearn.feature_selection import mutual_info_regression\n",
    "from sklearn.preprocessing import LabelEncoder, MinMaxScaler\n",
    "from sklearn.feature_selection import SelectKBest\n",
    "\n",
    "categorical_cols = ['VendorID', 'RatecodeID', 'store_and_fwd_flag', 'payment_type', \n",
    "                    'pickup_weekday', 'am_pm', 'is_night', 'is_weekend', 'rush_hour']\n",
    "\n",
    "df_encoded = df.copy()\n",
    "for col in categorical_cols:\n",
    "    df_encoded[col] = LabelEncoder().fit_transform(df_encoded[col])\n",
    "\n",
    "df_encoded = df_encoded.dropna(subset=['total_amount'])\n",
    "\n",
    "X_cat = df_encoded[categorical_cols]\n",
    "y = df_encoded['total_amount']\n",
    "\n",
    "X_scaled = MinMaxScaler().fit_transform(X_cat)\n",
    "\n",
    "from sklearn.feature_selection import mutual_info_regression\n",
    "\n",
    "mi_scores = mutual_info_regression(X_scaled, y)\n",
    "mi_score_df = pd.DataFrame({'Feature': categorical_cols, 'MI Score': mi_scores})\n",
    "mi_score_df = mi_score_df.sort_values(by='MI Score', ascending=False)\n",
    "\n",
    "print(mi_score_df)"
   ]
  },
  {
   "cell_type": "code",
   "execution_count": null,
   "id": "dc7665b3-61e7-4696-83e8-28381c56d9c2",
   "metadata": {},
   "outputs": [],
   "source": [
    "#Random forest feature"
   ]
  },
  {
   "cell_type": "code",
   "execution_count": 35,
   "id": "eb2eb940-a280-419f-9d8e-1bbce4d9ef0c",
   "metadata": {},
   "outputs": [
    {
     "name": "stdout",
     "output_type": "stream",
     "text": [
      "Top Important Features:\n",
      "trip_duration_minutes    0.803221\n",
      "trip_distance_km         0.094595\n",
      "tip_percentage           0.080392\n",
      "total_surcharges         0.009690\n",
      "avg_speed_kmh            0.004235\n",
      "RatecodeID               0.002898\n",
      "payment_type             0.001137\n",
      "VendorID                 0.000889\n",
      "rush_hour                0.000849\n",
      "pickup_day_of_month      0.000639\n",
      "pickup_month             0.000426\n",
      "am_pm                    0.000390\n",
      "pickup_weekday           0.000319\n",
      "is_night                 0.000239\n",
      "store_and_fwd_flag       0.000070\n",
      "is_zero_passenger        0.000012\n",
      "is_weekend               0.000000\n",
      "pickup_year              0.000000\n",
      "dtype: float64\n"
     ]
    }
   ],
   "source": [
    "from sklearn.ensemble import RandomForestRegressor\n",
    "from sklearn.preprocessing import LabelEncoder\n",
    "\n",
    "y = df['total_amount']\n",
    "X = df.drop(columns=['total_amount', 'total_amount_log', 'trip_distance_km_log', 'trip_duration_minutes_log']) \n",
    "X = X.replace([np.inf, -np.inf], np.nan)\n",
    "\n",
    "for col in X.select_dtypes(include='object'):\n",
    "    le = LabelEncoder()\n",
    "    X[col] = le.fit_transform(X[col])\n",
    "\n",
    "X = X.fillna(X.median(numeric_only=True))\n",
    "\n",
    "model = RandomForestRegressor(random_state=42)\n",
    "model.fit(X, y)\n",
    "\n",
    "feat_importance = pd.Series(model.feature_importances_, index=X.columns)\n",
    "feat_importance = feat_importance.sort_values(ascending=False)\n",
    "\n",
    "print(\"Top Important Features:\")\n",
    "print(feat_importance)"
   ]
  },
  {
   "cell_type": "code",
   "execution_count": null,
   "id": "c081a9ef-5c7c-492f-85d4-acf0c589012e",
   "metadata": {},
   "outputs": [],
   "source": [
    "#Model Building"
   ]
  },
  {
   "cell_type": "code",
   "execution_count": 36,
   "id": "4fbba604-441d-472a-bc4a-a910e91b676e",
   "metadata": {},
   "outputs": [
    {
     "name": "stderr",
     "output_type": "stream",
     "text": [
      "C:\\Users\\alber\\AppData\\Local\\Temp\\ipykernel_12276\\4165404370.py:30: FutureWarning: The behavior of DataFrame concatenation with empty or all-NA entries is deprecated. In a future version, this will no longer exclude empty or all-NA columns when determining the result dtypes. To retain the old behavior, exclude the relevant entries before the concat operation.\n",
      "  results = pd.concat([results, pd.DataFrame({\n"
     ]
    },
    {
     "name": "stdout",
     "output_type": "stream",
     "text": [
      "               Model        R2       MSE      RMSE       MAE\n",
      "0  Linear Regression  0.935792  1.286297  1.134151  0.647428\n",
      "1   Ridge Regression  0.935795  1.286238  1.134124  0.647449\n",
      "2   Lasso Regression  0.925651  1.489460  1.220434  0.662194\n",
      "3      Random Forest  0.975052  0.499798  0.706964  0.272386\n",
      "4  Gradient Boosting  0.964128  0.718643  0.847728  0.482427\n"
     ]
    }
   ],
   "source": [
    "# Regression\n",
    "# Models\n",
    "from sklearn.model_selection import train_test_split\n",
    "from sklearn.linear_model import LinearRegression, Ridge, Lasso\n",
    "from sklearn.ensemble import RandomForestRegressor, GradientBoostingRegressor\n",
    "from sklearn.metrics import mean_squared_error, mean_absolute_error, r2_score\n",
    "\n",
    "X_train, X_test, y_train, y_test = train_test_split(X,y, test_size=0.2, random_state=42)\n",
    "models = {\n",
    "    \"Linear Regression\": LinearRegression(),\n",
    "    \"Ridge Regression\": Ridge(alpha=1.0),\n",
    "    \"Lasso Regression\": Lasso(alpha=0.1),\n",
    "    \"Random Forest\": RandomForestRegressor(n_estimators=100, random_state=42),\n",
    "    \"Gradient Boosting\": GradientBoostingRegressor(n_estimators=100, random_state=42)\n",
    "}\n",
    "\n",
    "# DataFrame to store results\n",
    "results = pd.DataFrame(columns=['Model', 'R2', 'MSE', 'RMSE', 'MAE'])\n",
    "\n",
    "# Train and evaluate\n",
    "for name, model in models.items():\n",
    "    model.fit(X_train, y_train)\n",
    "    y_pred = model.predict(X_test)\n",
    "    \n",
    "    r2 = r2_score(y_test, y_pred)\n",
    "    mse = mean_squared_error(y_test, y_pred)\n",
    "    rmse = np.sqrt(mse)\n",
    "    mae = mean_absolute_error(y_test, y_pred)\n",
    "    \n",
    "    results = pd.concat([results, pd.DataFrame({\n",
    "        'Model': [name],\n",
    "        'R2': [r2],\n",
    "        'MSE': [mse],\n",
    "        'RMSE': [rmse],\n",
    "        'MAE': [mae]\n",
    "    })], ignore_index=True)\n",
    "\n",
    "# Show results\n",
    "print(results)"
   ]
  },
  {
   "cell_type": "code",
   "execution_count": 37,
   "id": "3469fae9-eaeb-47db-ad33-1ac07ed92948",
   "metadata": {},
   "outputs": [
    {
     "data": {
      "text/plain": [
       "Index(['VendorID', 'RatecodeID', 'store_and_fwd_flag', 'payment_type',\n",
       "       'total_amount', 'pickup_weekday', 'is_weekend', 'am_pm', 'is_night',\n",
       "       'trip_distance_km', 'trip_duration_minutes', 'avg_speed_kmh',\n",
       "       'total_surcharges', 'tip_percentage', 'is_zero_passenger',\n",
       "       'pickup_day_of_month', 'pickup_month', 'pickup_year', 'rush_hour',\n",
       "       'total_amount_log', 'trip_distance_km_log',\n",
       "       'trip_duration_minutes_log'],\n",
       "      dtype='object')"
      ]
     },
     "execution_count": 37,
     "metadata": {},
     "output_type": "execute_result"
    }
   ],
   "source": [
    "df.columns"
   ]
  },
  {
   "cell_type": "code",
   "execution_count": null,
   "id": "263a65bd-b33f-4733-bb22-8e5caee8b256",
   "metadata": {},
   "outputs": [
    {
     "name": "stdout",
     "output_type": "stream",
     "text": [
      "Fitting 2 folds for each of 10 candidates, totalling 20 fits\n",
      "Fitting 2 folds for each of 10 candidates, totalling 20 fits\n"
     ]
    }
   ],
   "source": [
    "#Hyperparameter Tuning\n",
    "from sklearn.model_selection import RandomizedSearchCV\n",
    "\n",
    "# Sample data\n",
    "X_sample = X_train.sample(frac=0.2, random_state=42)\n",
    "y_sample = y_train.loc[X_sample.index]\n",
    "\n",
    "rf = RandomForestRegressor(random_state=42)\n",
    "gb = GradientBoostingRegressor(random_state=42)\n",
    "\n",
    "rf_params = {\n",
    "    'n_estimators': [100, 200, 300],\n",
    "    'max_depth': [5, 10, 20, None],\n",
    "    'min_samples_split': [2, 5, 10],\n",
    "    'min_samples_leaf': [1, 2, 4],\n",
    "    'max_features': ['sqrt', 'log2', None]\n",
    "}\n",
    "\n",
    "gb_params = {\n",
    "    'n_estimators': [100, 200, 300],\n",
    "    'learning_rate': [0.01, 0.05, 0.1, 0.2],\n",
    "    'max_depth': [3, 5, 7, 10],\n",
    "    'subsample': [0.6, 0.8, 1.0]}\n",
    "# Reduce n_iter and cv\n",
    "rf_search = RandomizedSearchCV(\n",
    "    rf,\n",
    "    rf_params,\n",
    "    cv=2,\n",
    "    n_iter=10,\n",
    "    scoring='r2',\n",
    "    n_jobs=-1,\n",
    "    random_state=42,\n",
    "    verbose=2\n",
    ")\n",
    "\n",
    "gb_search = RandomizedSearchCV(\n",
    "    gb,\n",
    "    gb_params,\n",
    "    cv=2,\n",
    "    n_iter=10,\n",
    "    scoring='r2',\n",
    "    n_jobs=-1,\n",
    "    random_state=42,\n",
    "    verbose=2\n",
    ")\n",
    "\n",
    "# Fit on smaller sample\n",
    "rf_search.fit(X_sample, y_sample)\n",
    "gb_search.fit(X_sample, y_sample)\n",
    "\n",
    "rf_best = rf_search.best_estimator_\n",
    "gb_best = gb_search.best_estimator_"
   ]
  },
  {
   "cell_type": "code",
   "execution_count": null,
   "id": "3c7dcd2f-957b-40a7-ab11-24e1d888afcf",
   "metadata": {},
   "outputs": [],
   "source": [
    "# Random Forest is the best model"
   ]
  },
  {
   "cell_type": "code",
   "execution_count": null,
   "id": "7bb3be3a-718a-46b1-9332-c46a681412b0",
   "metadata": {},
   "outputs": [],
   "source": [
    "#Pickle the best model"
   ]
  },
  {
   "cell_type": "code",
   "execution_count": 58,
   "id": "b8cd1a46-c206-402b-a40e-5eb6ccc3e12e",
   "metadata": {},
   "outputs": [
    {
     "name": "stdout",
     "output_type": "stream",
     "text": [
      "Both models saved successfully!\n"
     ]
    }
   ],
   "source": [
    "import pickle\n",
    "\n",
    "# 2. Save them to disk\n",
    "with open('best_random_forest_model.pkl', 'wb') as f:\n",
    "    pickle.dump(rf_best, f)\n",
    "\n",
    "with open('best_gradient_boosting_model.pkl', 'wb') as f:\n",
    "    pickle.dump(gb_best, f)\n",
    "\n",
    "print(\"Both models saved successfully!\")"
   ]
  },
  {
   "cell_type": "code",
   "execution_count": 59,
   "id": "e29b905f-de37-4cde-9af2-71bed50fb170",
   "metadata": {},
   "outputs": [],
   "source": [
    "with open('best_random_forest_model.pkl', 'rb') as f:\n",
    "    loaded_rf_model = pickle.load(f)\n",
    "\n",
    "with open('best_gradient_boosting_model.pkl', 'rb') as f:\n",
    "    loaded_gb_model = pickle.load(f)\n",
    "\n",
    "# Predict on test set\n",
    "rf_preds = loaded_rf_model.predict(X_test)\n",
    "gb_preds = loaded_gb_model.predict(X_test)"
   ]
  },
  {
   "cell_type": "code",
   "execution_count": null,
   "id": "1bcac7bb-d02e-4a10-80f4-ec2145ab3196",
   "metadata": {},
   "outputs": [],
   "source": []
  },
  {
   "cell_type": "code",
   "execution_count": null,
   "id": "ea0753b6-b12e-41fb-a402-3cb6522c2f56",
   "metadata": {},
   "outputs": [],
   "source": []
  }
 ],
 "metadata": {
  "kernelspec": {
   "display_name": "Python [conda env:base] *",
   "language": "python",
   "name": "conda-base-py"
  },
  "language_info": {
   "codemirror_mode": {
    "name": "ipython",
    "version": 3
   },
   "file_extension": ".py",
   "mimetype": "text/x-python",
   "name": "python",
   "nbconvert_exporter": "python",
   "pygments_lexer": "ipython3",
   "version": "3.12.7"
  }
 },
 "nbformat": 4,
 "nbformat_minor": 5
}
